{
 "cells": [
  {
   "cell_type": "code",
   "execution_count": 1,
   "metadata": {},
   "outputs": [
    {
     "name": "stdout",
     "output_type": "stream",
     "text": [
      "Hello from utils!\n",
      "Hello, Edson! Welcome to modular notebooks.\n"
     ]
    }
   ],
   "source": [
    "import import_ipynb\n",
    "\n",
    "from aux_functions.checks.example_02 import say_hello, Greeter  # Import function and class\n",
    "\n",
    "# Use the function\n",
    "say_hello()\n",
    "\n",
    "# Create an object from the class\n",
    "g = Greeter(\"Edson\")\n",
    "g.greet()\n"
   ]
  },
  {
   "cell_type": "code",
   "execution_count": 2,
   "metadata": {},
   "outputs": [
    {
     "name": "stdout",
     "output_type": "stream",
     "text": [
      "Running experiment: Optimization Test for 5 repetitions.\n",
      "Updated repetitions to 10.\n",
      "Running experiment: Optimization Test for 10 repetitions.\n"
     ]
    }
   ],
   "source": [
    "from aux_functions.checks.class_example import Experiment  # Import function and class\n",
    "\n",
    "# Create an Experiment object with a name and repetitions\n",
    "exp = Experiment(name=\"Optimization Test\", repetitions=5)\n",
    "\n",
    "# Call the run function, which uses stored values\n",
    "exp.run()\n",
    "\n",
    "# Change the number of repetitions\n",
    "exp.change_repetitions(10)\n",
    "\n",
    "# Run again with the updated value\n",
    "exp.run()"
   ]
  }
 ],
 "metadata": {
  "kernelspec": {
   "display_name": "base",
   "language": "python",
   "name": "python3"
  },
  "language_info": {
   "codemirror_mode": {
    "name": "ipython",
    "version": 3
   },
   "file_extension": ".py",
   "mimetype": "text/x-python",
   "name": "python",
   "nbconvert_exporter": "python",
   "pygments_lexer": "ipython3",
   "version": "3.10.12"
  }
 },
 "nbformat": 4,
 "nbformat_minor": 2
}
