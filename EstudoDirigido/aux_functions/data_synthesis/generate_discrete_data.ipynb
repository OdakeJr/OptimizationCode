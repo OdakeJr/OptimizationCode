{
 "cells": [
  {
   "cell_type": "code",
   "execution_count": 23,
   "metadata": {},
   "outputs": [],
   "source": [
    "import numpy as np\n",
    "import itertools\n",
    "import import_ipynb\n",
    "\n",
    "from benchmark_functions import test_model, model_function  # Import function and class\n",
    "from loss_functions import absolute_error  # Import function and class"
   ]
  },
  {
   "cell_type": "code",
   "execution_count": 24,
   "metadata": {},
   "outputs": [],
   "source": [
    "# Defines the limits of the input itself, like in a function that depends on x we limit it from [0, 1].\n",
    "# It only sets the grid of the space, IT HAS NO PROPERTIES*.\n",
    "#class TargetSpace:\n",
    "#class SampleSpace:\n",
    "#class OriginalSpace:\n",
    "class ConcreteSpace:\n",
    "    def __init__(self, space_shape, limits, sample_method=\"same\"):\n",
    "        assert len(space_shape) == len(limits), \"Each dimension must have corresponding limits\"\n",
    "        \n",
    "        self.space_shape = space_shape\n",
    "        self.limits = np.array(limits)\n",
    "        self.sample_method = sample_method\n",
    "        self.space = None  # Stores sampled points\n",
    "        self.grid = None   # Stores full grid of combinations\n",
    "\n",
    "    def generate_space(self):\n",
    "        if self.sample_method == \"same\":\n",
    "            # Create equally spaced points per dimension\n",
    "            self.space = [np.linspace(low, high, num) for (low, high), num in zip(self.limits, self.space_shape)]\n",
    "        elif self.sample_method == \"monte_carlo\":\n",
    "            # Create random sampled points per dimension\n",
    "            self.space = [np.random.uniform(low, high, num) for (low, high), num in zip(self.limits, self.space_shape)]\n",
    "        else:\n",
    "            raise ValueError(\"Invalid sample_method. Choose 'same' or 'monte_carlo'.\")\n",
    "        \n",
    "    def generate_grid(self):\n",
    "        if self.space is None:\n",
    "            raise RuntimeError(\"Space must be generated first. Call generate_space()\")\n",
    "\n",
    "        # Generate all possible combinations of points in all dimensions\n",
    "        self.grid = np.array(list(itertools.product(*self.space)))\n",
    "\n",
    "    def get_space(self):\n",
    "        return self.space\n",
    "    \n",
    "    def get_grid(self):\n",
    "        if self.grid is None:\n",
    "            raise RuntimeError(\"Grid has not been generated. Call generate_space() first.\")\n",
    "        return self.grid\n",
    "\n",
    "    def change(self, new_shape=None, new_limits=None, new_method=None):\n",
    "        if new_shape:\n",
    "            assert len(new_shape) == len(self.limits), \"New shape must match dimensions of limits\"\n",
    "            self.space_shape = new_shape\n",
    "        if new_limits:\n",
    "            assert len(new_limits) == len(self.space_shape), \"New limits must match number of dimensions\"\n",
    "            self.limits = np.array(new_limits)\n",
    "        if new_method:\n",
    "            assert new_method in [\"same\", \"monte_carlo\"], \"Invalid method\"\n",
    "            self.sample_method = new_method\n",
    "        \n",
    "        self.generate_space()  # Regenerate space and grid"
   ]
  },
  {
   "cell_type": "code",
   "execution_count": 25,
   "metadata": {},
   "outputs": [
    {
     "name": "stdout",
     "output_type": "stream",
     "text": [
      "Generated Space: [array([-10.,  10.]), array([1. , 1.5, 2. ])]\n",
      "Generated Grid: [[-10.    1. ]\n",
      " [-10.    1.5]\n",
      " [-10.    2. ]\n",
      " [ 10.    1. ]\n",
      " [ 10.    1.5]\n",
      " [ 10.    2. ]]\n"
     ]
    }
   ],
   "source": [
    "# Define a 2D space (2 points on X-axis, 3 points on Y-axis)\n",
    "space_shape = [2, 3,]\n",
    "limits = [[-10, 10], [1, 2]]\n",
    "sample_method = \"same\"  # Can also use \"monte_carlo\"\n",
    "\n",
    "# Create the space\n",
    "space = ConcreteSpace(space_shape, limits, sample_method)\n",
    "space.generate_space()\n",
    "space.generate_grid()\n",
    "\n",
    "# Print sampled space\n",
    "print(\"Generated Space:\", space.get_space())\n",
    "\n",
    "# Print full grid of combinations\n",
    "print(\"Generated Grid:\", space.get_grid())"
   ]
  },
  {
   "cell_type": "code",
   "execution_count": 26,
   "metadata": {},
   "outputs": [],
   "source": [
    "# Defines the parameters available for the model to sample in a linear model we may have a and b varying from [0, 1]\n",
    "# It only sets the grid of the space, IT HAS NO PROPERTIES*.\n",
    "#class DualSpace:\n",
    "#class SearchSpace:\n",
    "class AbstractSpace:\n",
    "    def __init__(self, space_shape, limits, sample_method=\"same\"):\n",
    "        assert len(space_shape) == len(limits), \"Each dimension must have corresponding limits\"\n",
    "        \n",
    "        self.space_shape = space_shape\n",
    "        self.limits = np.array(limits)\n",
    "        self.sample_method = sample_method\n",
    "        self.space = None  # Stores sampled points\n",
    "        self.grid = None   # Stores full grid of combinations\n",
    "\n",
    "    def generate_space(self):\n",
    "        if self.sample_method == \"same\":\n",
    "            # Create equally spaced points per dimension\n",
    "            self.space = [np.linspace(low, high, num) for (low, high), num in zip(self.limits, self.space_shape)]\n",
    "        elif self.sample_method == \"monte_carlo\":\n",
    "            # Create random sampled points per dimension\n",
    "            self.space = [np.random.uniform(low, high, num) for (low, high), num in zip(self.limits, self.space_shape)]\n",
    "        else:\n",
    "            raise ValueError(\"Invalid sample_method. Choose 'same' or 'monte_carlo'.\")\n",
    "        \n",
    "    def generate_grid(self):\n",
    "        if self.space is None:\n",
    "            raise RuntimeError(\"Space must be generated first. Call generate_space()\")\n",
    "\n",
    "        # Generate all possible combinations of points in all dimensions\n",
    "        self.grid = np.array(list(itertools.product(*self.space)))\n",
    "\n",
    "    def get_space(self):\n",
    "        return self.space\n",
    "    \n",
    "    def get_grid(self):\n",
    "        if self.grid is None:\n",
    "            raise RuntimeError(\"Grid has not been generated. Call generate_space() first.\")\n",
    "        return self.grid\n",
    "\n",
    "    def change(self, new_shape=None, new_limits=None, new_method=None):\n",
    "        if new_shape:\n",
    "            assert len(new_shape) == len(self.limits), \"New shape must match dimensions of limits\"\n",
    "            self.space_shape = new_shape\n",
    "        if new_limits:\n",
    "            assert len(new_limits) == len(self.space_shape), \"New limits must match number of dimensions\"\n",
    "            self.limits = np.array(new_limits)\n",
    "        if new_method:\n",
    "            assert new_method in [\"same\", \"monte_carlo\"], \"Invalid method\"\n",
    "            self.sample_method = new_method\n",
    "        \n",
    "        self.generate_space()  # Regenerate space and grid\n"
   ]
  },
  {
   "cell_type": "code",
   "execution_count": 27,
   "metadata": {},
   "outputs": [
    {
     "name": "stdout",
     "output_type": "stream",
     "text": [
      "Generated Space: [array([-10.,  10.]), array([1. , 1.5, 2. ])]\n",
      "Generated Grid: [[-10.    1. ]\n",
      " [-10.    1.5]\n",
      " [-10.    2. ]\n",
      " [ 10.    1. ]\n",
      " [ 10.    1.5]\n",
      " [ 10.    2. ]]\n"
     ]
    }
   ],
   "source": [
    "# Define a 2D space (2 points on X-axis, 3 points on Y-axis)\n",
    "space_shape = [2, 3,]\n",
    "limits = [[-10, 10], [1, 2]]\n",
    "sample_method = \"same\"  # Can also use \"monte_carlo\"\n",
    "\n",
    "# Create the space\n",
    "space = AbstractSpace(space_shape, limits, sample_method)\n",
    "space.generate_space()\n",
    "space.generate_grid()\n",
    "\n",
    "# Print sampled space\n",
    "print(\"Generated Space:\", space.get_space())\n",
    "\n",
    "# Print full grid of combinations\n",
    "print(\"Generated Grid:\", space.get_grid())"
   ]
  },
  {
   "cell_type": "code",
   "execution_count": 28,
   "metadata": {},
   "outputs": [],
   "source": [
    "# IMPORTANT: The search space is a N dimensional space in which the parameters represent some operation in a model, the operations are the PROPERTIES attributed to\n",
    "# that search space, one search space can have many PROPERTIES, but one PROPERTY can have only be defined in the specific dimensions of that search space\n",
    "# If the AI model has the exact complexity of the object we want to understant, the search space and the sample space have the same dimension\n",
    "# If the AI model has the same property of the object we want to understant, the properties of that space are the same, in this case we have a perfect model\n",
    "# A perfect model means, given some input in the search and sample space, the output will be the same\n",
    "# With that in mind, perhaps oversized models can still not overfit if the specific output is orthogonal to the effects given by the extra parameters\n",
    "class ModelProcessor:\n",
    "    def __init__(self, model_function):\n",
    "        self.model_function = model_function\n",
    "\n",
    "    def process_single(self, concrete_item, abstract_item):\n",
    "        return self.model_function(concrete_item, abstract_item)\n",
    "\n",
    "    def process_concrete_full_abstract_one(self, concrete_grid, abstract_item):\n",
    "        return [self.model_function(concrete, abstract_item) for concrete in concrete_grid]\n",
    "\n",
    "    def process_abstract_full_concrete_one(self, concrete_item, abstract_grid):\n",
    "        return [self.model_function(concrete_item, abstract) for abstract in abstract_grid]\n",
    "\n",
    "    def compare_models(self, concrete_grid, abstract_model_1, abstract_model_2, loss_function, return_mean=False):\n",
    "        results_1 = self.process_concrete_full_abstract_one(concrete_grid, abstract_model_1)\n",
    "        results_2 = self.process_concrete_full_abstract_one(concrete_grid, abstract_model_2)\n",
    "\n",
    "        loss_values = [loss_function(r1, r2) for r1, r2 in zip(results_1, results_2)]\n",
    "        return np.mean(loss_values) if return_mean else loss_values\n",
    "    \n",
    "    def evaluate_against_target(self, concrete_grid, target_model, abstract_grid, loss_function):\n",
    "        loss_results = []\n",
    "        \n",
    "        for abstract_candidate in abstract_grid:\n",
    "            loss_value = self.compare_models(concrete_grid, target_model, abstract_candidate, loss_function, return_mean=True)\n",
    "            loss_results.append(loss_value)\n",
    "\n",
    "        return loss_results\n",
    "    \n",
    "    def compare_concrete_models(self, concrete_model_1, concrete_model_2, abstract_grid, loss_function, return_mean=False):\n",
    "        results_1 = self.process_abstract_full_concrete_one(concrete_model_1, abstract_grid)\n",
    "        results_2 = self.process_abstract_full_concrete_one(concrete_model_2, abstract_grid)\n",
    "\n",
    "        loss_values = [loss_function(r1, r2) for r1, r2 in zip(results_1, results_2)]\n",
    "        return np.mean(loss_values) if return_mean else loss_values\n",
    "    \n",
    "    def compare_concrete_models_iteration(self, concrete_model_1, target_model, abstract_grid, loss_function, return_mean=False):\n",
    "        results_1 = self.process_abstract_full_concrete_one(concrete_model_1, abstract_grid)    # Do not pass the grid, pass only the correct model\n",
    "        target = self.process_single(concrete_model_1, target_model)\n",
    "\n",
    "        loss_values = [loss_function(target, r1) for r1 in results_1]\n",
    "        return np.mean(loss_values) if return_mean else loss_values\n",
    "    \n",
    "    def evaluate_concrete_against_target(self, concrete_grid, target_model, abstract_grid, loss_function):\n",
    "        loss_results = []\n",
    "        \n",
    "        for concrete_candidate in concrete_grid:\n",
    "            loss_value = self.compare_concrete_models_iteration(concrete_candidate, target_model, abstract_grid, loss_function, return_mean=True)\n",
    "            loss_results.append(loss_value)\n",
    "\n",
    "        return loss_results"
   ]
  },
  {
   "cell_type": "code",
   "execution_count": 29,
   "metadata": {},
   "outputs": [
    {
     "name": "stdout",
     "output_type": "stream",
     "text": [
      "Single Concrete & Single Abstract: [-18.0, 0.0]\n",
      "Full Concrete Grid & Single Abstract: [[-18.0, 0.0], [-17.5, -5.0], [-17.0, -10.0], [2.0, 20.0], [2.5, 25.0], [3.0, 30.0]]\n",
      "Single Concrete & Full Abstract Grid: [[-18.0, 0.0], [-17.5, 5.0], [-17.0, 10.0], [2.0, -20.0], [2.5, -25.0], [3.0, -30.0]]\n"
     ]
    }
   ],
   "source": [
    "# Create the spaces\n",
    "concrete_space = ConcreteSpace(space_shape, limits, sample_method)\n",
    "concrete_space.generate_space()\n",
    "concrete_space.generate_grid()\n",
    "\n",
    "abstract_space = AbstractSpace(space_shape, limits, sample_method)\n",
    "abstract_space.generate_space()\n",
    "abstract_space.generate_grid()\n",
    "\n",
    "# Create the model processor\n",
    "model_processor = ModelProcessor(test_model)\n",
    "\n",
    "# Process single concrete and abstract item\n",
    "result_single = model_processor.process_single(concrete_space.get_grid()[0], abstract_space.get_grid()[0])\n",
    "\n",
    "# Process full concrete grid with one abstract item\n",
    "result_concrete_full_abstract_one = model_processor.process_concrete_full_abstract_one(concrete_space.get_grid(), abstract_space.get_grid()[0])\n",
    "\n",
    "# Process one concrete item with full abstract grid\n",
    "result_abstract_full_concrete_one = model_processor.process_abstract_full_concrete_one(concrete_space.get_grid()[0], abstract_space.get_grid())\n",
    "\n",
    "# Print results\n",
    "print(\"Single Concrete & Single Abstract:\", result_single)\n",
    "print(\"Full Concrete Grid & Single Abstract:\", result_concrete_full_abstract_one)\n",
    "print(\"Single Concrete & Full Abstract Grid:\", result_abstract_full_concrete_one)\n"
   ]
  },
  {
   "cell_type": "code",
   "execution_count": 30,
   "metadata": {},
   "outputs": [
    {
     "name": "stdout",
     "output_type": "stream",
     "text": [
      "\n",
      "Model 1 Outputs: [-18.0, -17.5, -17.0, 2.0, 2.5, 3.0]\n",
      "Model 2 Outputs: [-17.5, -17.0, -16.5, 2.5, 3.0, 3.5]\n",
      "Loss list between models: [0.5, 0.5, 0.5, 0.5, 0.5, 0.5]\n",
      "Loss mean between models: 0.5\n"
     ]
    }
   ],
   "source": [
    "# Create the model processor\n",
    "model_processor = ModelProcessor(model_function)\n",
    "\n",
    "# Create spaces\n",
    "concrete_space = ConcreteSpace(space_shape, limits, sample_method)\n",
    "concrete_space.generate_space()\n",
    "concrete_space.generate_grid()\n",
    "\n",
    "abstract_space = AbstractSpace(space_shape, limits, sample_method)\n",
    "abstract_space.generate_space()\n",
    "abstract_space.generate_grid()\n",
    "\n",
    "# Extract two different abstract models\n",
    "abstract_model_1 = abstract_space.get_grid()[0]  # First model parameter\n",
    "abstract_model_2 = abstract_space.get_grid()[1]  # Second model parameter\n",
    "\n",
    "# Get model outputs\n",
    "results_1 = model_processor.process_concrete_full_abstract_one(concrete_space.get_grid(), abstract_model_1)\n",
    "results_2 = model_processor.process_concrete_full_abstract_one(concrete_space.get_grid(), abstract_model_2)\n",
    "\n",
    "# Compare both models (return full loss list)\n",
    "loss_list = model_processor.compare_models(concrete_space.get_grid(), abstract_model_1, abstract_model_2, absolute_error, return_mean=False)\n",
    "\n",
    "# Compare both models (return mean loss)\n",
    "mean_loss = model_processor.compare_models(concrete_space.get_grid(), abstract_model_1, abstract_model_2, absolute_error, return_mean=True)\n",
    "\n",
    "# Print results\n",
    "print(\"\\nModel 1 Outputs:\", results_1)\n",
    "print(\"Model 2 Outputs:\", results_2)\n",
    "print(\"Loss list between models:\", loss_list)\n",
    "print(\"Loss mean between models:\", mean_loss)\n"
   ]
  },
  {
   "cell_type": "code",
   "execution_count": 31,
   "metadata": {},
   "outputs": [
    {
     "name": "stdout",
     "output_type": "stream",
     "text": [
      "\n",
      "Model 1 Outputs: [-18.0, -17.5, -17.0, 2.0, 2.5, 3.0]\n",
      "Model 2 Outputs: [-17.5, -17.0, -16.5, 2.5, 3.0, 3.5]\n",
      "Loss list between models: [0.5, 0.5, 0.5, 0.5, 0.5, 0.5]\n",
      "Loss mean between models: 0.5\n"
     ]
    }
   ],
   "source": [
    "# Extract two different abstract models\n",
    "concrete_model_1 = concrete_space.get_grid()[0]  # First model parameter\n",
    "concrete_model_2 = concrete_space.get_grid()[1]  # Second model parameter\n",
    "\n",
    "# Get model outputs\n",
    "results_1 = model_processor.process_abstract_full_concrete_one(concrete_model_1, abstract_space.get_grid())\n",
    "results_2 = model_processor.process_abstract_full_concrete_one(concrete_model_2, abstract_space.get_grid())\n",
    "\n",
    "# Compare both models (return full loss list)\n",
    "loss_list = model_processor.compare_concrete_models(concrete_model_1, concrete_model_2, abstract_space.get_grid(), absolute_error, return_mean=False)\n",
    "\n",
    "# Compare both models (return mean loss)\n",
    "mean_loss = model_processor.compare_concrete_models(concrete_model_1, concrete_model_2, abstract_space.get_grid(), absolute_error, return_mean=True)\n",
    "\n",
    "# Print results\n",
    "print(\"\\nModel 1 Outputs:\", results_1)\n",
    "print(\"Model 2 Outputs:\", results_2)\n",
    "print(\"Loss list between models:\", loss_list)\n",
    "print(\"Loss mean between models:\", mean_loss)"
   ]
  },
  {
   "cell_type": "code",
   "execution_count": 32,
   "metadata": {},
   "outputs": [
    {
     "name": "stdout",
     "output_type": "stream",
     "text": [
      "\n",
      "Loss values for each abstract model compared to the target model:\n",
      "[0.0, 0.5, 1.0, 20.0, 20.5, 21.0]\n"
     ]
    }
   ],
   "source": [
    "# Select a fixed target model (abstract representation)\n",
    "target_model = abstract_space.get_grid()[0]  # This is the reference model\n",
    "\n",
    "# Evaluate each abstract model in the grid against the target model\n",
    "loss_values = model_processor.evaluate_against_target(\n",
    "    concrete_grid=concrete_space.get_grid(),\n",
    "    target_model=target_model,\n",
    "    abstract_grid=abstract_space.get_grid(),\n",
    "    loss_function=absolute_error\n",
    ")\n",
    "\n",
    "# Print results\n",
    "print(\"\\nLoss values for each abstract model compared to the target model:\")\n",
    "print(loss_values)"
   ]
  },
  {
   "cell_type": "code",
   "execution_count": 33,
   "metadata": {},
   "outputs": [
    {
     "name": "stdout",
     "output_type": "stream",
     "text": [
      "[10.5, 10.5, 10.5, 10.5, 10.5, 10.5]\n"
     ]
    }
   ],
   "source": [
    "# Select a fixed target model (abstract representation)\n",
    "target_model = abstract_space.get_grid()[0]  # This is the reference model\n",
    "\n",
    "# Evaluate each abstract model in the grid against the target model\n",
    "loss_values = model_processor.evaluate_concrete_against_target(\n",
    "    concrete_grid=concrete_space.get_grid(),\n",
    "    target_model=target_model,\n",
    "    abstract_grid=abstract_space.get_grid(),\n",
    "    loss_function=absolute_error\n",
    ")\n",
    "\n",
    "# Print results\n",
    "print(loss_values)"
   ]
  }
 ],
 "metadata": {
  "kernelspec": {
   "display_name": "base",
   "language": "python",
   "name": "python3"
  },
  "language_info": {
   "codemirror_mode": {
    "name": "ipython",
    "version": 3
   },
   "file_extension": ".py",
   "mimetype": "text/x-python",
   "name": "python",
   "nbconvert_exporter": "python",
   "pygments_lexer": "ipython3",
   "version": "3.10.12"
  }
 },
 "nbformat": 4,
 "nbformat_minor": 2
}
