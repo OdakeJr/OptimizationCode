{
 "cells": [
  {
   "cell_type": "markdown",
   "metadata": {},
   "source": [
    "Define some loss functions"
   ]
  },
  {
   "cell_type": "code",
   "execution_count": null,
   "metadata": {},
   "outputs": [],
   "source": [
    "import numpy as np\n",
    "\n",
    "def raw_error(true, pred):\n",
    "    return true - pred\n",
    "\n",
    "def absolute_error(true, pred):\n",
    "    \"\"\"Computes the absolute error (L1 loss).\"\"\"\n",
    "    return abs(true - pred)\n",
    "\n",
    "def squared_error(true, pred):\n",
    "    \"\"\"Computes the squared error (L2 loss).\"\"\"\n",
    "    return (true - pred) ** 2\n",
    "\n",
    "def huber_loss(true, pred, delta=1.0):\n",
    "    \"\"\"\n",
    "    Computes the Huber Loss, which is less sensitive to outliers than MSE.\n",
    "    Uses a threshold delta to switch between L1 and L2 loss.\n",
    "    \n",
    "    Args:\n",
    "        true (float): True value.\n",
    "        pred (float): Predicted value.\n",
    "        delta (float): Threshold for switching between L1 and L2 loss.\n",
    "    \n",
    "    Returns:\n",
    "        float: Huber loss value.\n",
    "    \"\"\"\n",
    "    error = true - pred\n",
    "    if abs(error) <= delta:\n",
    "        return 0.5 * (error ** 2)  # Quadratic loss (MSE-like) for small errors\n",
    "    else:\n",
    "        return delta * (abs(error) - 0.5 * delta)  # Linear loss (MAE-like) for large errors\n",
    "\n",
    "def log_cosh_loss(true, pred):\n",
    "    \"\"\"\n",
    "    Computes Log-Cosh Loss, a smooth approximation of MAE.\n",
    "    \"\"\"\n",
    "    return np.log(np.cosh(true - pred))"
   ]
  }
 ],
 "metadata": {
  "language_info": {
   "name": "python"
  }
 },
 "nbformat": 4,
 "nbformat_minor": 2
}
