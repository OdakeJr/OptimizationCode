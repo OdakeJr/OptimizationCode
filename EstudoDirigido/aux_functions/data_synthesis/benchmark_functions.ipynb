{
 "cells": [
  {
   "cell_type": "markdown",
   "metadata": {},
   "source": [
    "Create a set of functions to generate, maybe 1D, 2D or ND\n",
    "\n",
    "Also put one way for the user to define a function of their on"
   ]
  },
  {
   "cell_type": "code",
   "execution_count": null,
   "metadata": {},
   "outputs": [],
   "source": [
    "import numpy as np"
   ]
  },
  {
   "cell_type": "code",
   "execution_count": null,
   "metadata": {},
   "outputs": [],
   "source": [
    "def one_d_linear():\n",
    "    pass\n",
    "\n",
    "def n_d_linear():\n",
    "    pass\n",
    "\n",
    "def n_d_generic():\n",
    "    pass\n"
   ]
  },
  {
   "cell_type": "code",
   "execution_count": null,
   "metadata": {},
   "outputs": [],
   "source": [
    "def test_model(concrete_input, abstract_input):\n",
    "    return [np.sum(concrete_input) + np.sum(abstract_input), np.prod(concrete_input) - np.prod(abstract_input)]\n",
    "\n",
    "def model_function(concrete_input, abstract_input):\n",
    "    return np.sum(concrete_input) + np.sum(abstract_input)"
   ]
  }
 ],
 "metadata": {
  "kernelspec": {
   "display_name": "base",
   "language": "python",
   "name": "python3"
  },
  "language_info": {
   "name": "python",
   "version": "3.10.12"
  }
 },
 "nbformat": 4,
 "nbformat_minor": 2
}
