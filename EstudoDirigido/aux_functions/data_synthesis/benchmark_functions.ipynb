{
 "cells": [
  {
   "cell_type": "markdown",
   "metadata": {},
   "source": [
    "Create a set of functions to generate, maybe 1D, 2D or ND\n",
    "\n",
    "Also put one way for the user to define a function of their on"
   ]
  },
  {
   "cell_type": "code",
   "execution_count": 2,
   "metadata": {},
   "outputs": [],
   "source": [
    "import numpy as np"
   ]
  },
  {
   "cell_type": "code",
   "execution_count": 5,
   "metadata": {},
   "outputs": [],
   "source": [
    "def linear_model(x, a, b):\n",
    "    return a * x + b * a - b**2 * a + a**3 - b\n",
    "\n",
    "def quadratic_model(x, a, b, c):\n",
    "    return a * x**2 + b * x + c\n",
    "\n",
    "def sine_model(x, a, b):\n",
    "    return a * np.sin(b * x)\n",
    "\n",
    "def rastrigin_function(x, a):\n",
    "    \"\"\"\n",
    "    Rastrigin function (2D) - Example of a common benchmark function.\n",
    "    \"\"\"\n",
    "    return 10 * len(x) + sum([(xi ** 2 - a * np.cos(2 * np.pi * xi)) for xi in x])"
   ]
  }
 ],
 "metadata": {
  "kernelspec": {
   "display_name": "base",
   "language": "python",
   "name": "python3"
  },
  "language_info": {
   "codemirror_mode": {
    "name": "ipython",
    "version": 3
   },
   "file_extension": ".py",
   "mimetype": "text/x-python",
   "name": "python",
   "nbconvert_exporter": "python",
   "pygments_lexer": "ipython3",
   "version": "3.10.12"
  }
 },
 "nbformat": 4,
 "nbformat_minor": 2
}
