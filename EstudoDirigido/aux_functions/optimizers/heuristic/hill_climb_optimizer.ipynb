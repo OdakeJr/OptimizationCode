{
 "cells": [
  {
   "cell_type": "code",
   "execution_count": 102,
   "metadata": {},
   "outputs": [],
   "source": [
    "import import_ipynb\n",
    "import sys\n",
    "import os\n",
    "\n",
    "sys.path.append(os.path.abspath(\"../../\"))  # Go up one level and into 'data'\n",
    "import data_synthesis.generate_discrete_data as gdd  # Import function and class"
   ]
  },
  {
   "cell_type": "code",
   "execution_count": 103,
   "metadata": {},
   "outputs": [],
   "source": [
    "def test(concrete_space, abstract_space, target_abstraction, true_architecture, proposed_architecture, loss_function, specific_args):\n",
    "    \"\"\"\n",
    "    Ideally the concrete space should be sampled randomly and the abstract space should be sampled on the run but perhaps having limitations\n",
    "    concrete_space: The possible input space of the optimization\n",
    "    abstract_space: The space containing the candidates to optimize the proposed architecture\n",
    "    target_abstraction: It is the parameters of the true_architecture\n",
    "    true_architecture: The way inputs and parameters are related in the real situation\n",
    "    proposed_architecture: The our model perceives the relation between inputs and parameters\n",
    "    loss_function: Function to evaluate results\n",
    "    specific_args: Argment depending on optimizer\n",
    "    \"\"\""
   ]
  },
  {
   "cell_type": "code",
   "execution_count": 104,
   "metadata": {},
   "outputs": [],
   "source": [
    "import numpy as np\n",
    "\n",
    "def hill_climb(concrete_space, abstract_space, target_abstraction, true_architecture, proposed_architecture, loss_function, specific_args):\n",
    "    # Extract hyperparameters\n",
    "    max_iterations = specific_args.get(\"max_iterations\", 100)\n",
    "    step_size = specific_args.get(\"step_size\", 0.1)\n",
    "\n",
    "    # Randomly initialize parameters from the abstract space\n",
    "    current_params = np.array(abstract_space[np.random.randint(len(abstract_space))])\n",
    "\n",
    "    # Compute initial loss\n",
    "    true_outputs = [true_architecture(x, target_abstraction) for x in concrete_space]\n",
    "    proposed_outputs = [proposed_architecture(x, current_params) for x in concrete_space]\n",
    "    current_loss = np.mean([loss_function(t, p) for t, p in zip(true_outputs, proposed_outputs)])\n",
    "\n",
    "    for _ in range(max_iterations):\n",
    "        # Generate new candidate by adding small random variation\n",
    "        candidate_params = current_params + np.random.uniform(-step_size, step_size, size=len(current_params))\n",
    "\n",
    "        # Evaluate new loss\n",
    "        proposed_outputs = [proposed_architecture(x, candidate_params) for x in concrete_space]\n",
    "        new_loss = np.mean([loss_function(t, p) for t, p in zip(true_outputs, proposed_outputs)])\n",
    "\n",
    "        # Accept if the candidate improves the loss\n",
    "        if new_loss < current_loss:\n",
    "            current_params, current_loss = candidate_params, new_loss\n",
    "\n",
    "    return {\"best_params\": current_params, \"best_loss\": current_loss}\n"
   ]
  },
  {
   "cell_type": "code",
   "execution_count": 105,
   "metadata": {},
   "outputs": [
    {
     "name": "stdout",
     "output_type": "stream",
     "text": [
      "Best Parameters: [-2.00191204 -1.98624784]\n",
      "Best Loss: 0.062276867380932105\n"
     ]
    }
   ],
   "source": [
    "# Define a sample function to optimize (e.g., linear model)\n",
    "def true_architecture(x, params):\n",
    "    a, b = params\n",
    "    return a * x + b\n",
    "\n",
    "def proposed_architecture(x, params):\n",
    "    a, b = params\n",
    "    return a * x + b + np.random.normal(0, 0.1)  # Adding slight noise to simulate imperfection\n",
    "\n",
    "# Define a loss function (Absolute Error)\n",
    "def absolute_error(true, pred):\n",
    "    return abs(true - pred)\n",
    "\n",
    "# Define spaces\n",
    "space_shape = [10]  # 1D space\n",
    "limits = np.array([[-5, 5]])  # Limits for x-values\n",
    "\n",
    "# Generate concrete samples instead of a full grid\n",
    "concrete_space = gdd.ConcreteSpace(space_shape, limits, \"monte_carlo\")\n",
    "concrete_samples = concrete_space.generate_random_samples(n=50)\n",
    "\n",
    "# Define abstract parameter space\n",
    "abstract_space = [np.array([a, b]) for a in np.linspace(-2, 2, 10) for b in np.linspace(-2, 2, 10)]\n",
    "\n",
    "# Define true parameters\n",
    "target_abstraction = abstract_space[0]\n",
    "\n",
    "# Run optimization\n",
    "best_solution = hill_climb(\n",
    "    concrete_samples, abstract_space, target_abstraction,\n",
    "    true_architecture, proposed_architecture,\n",
    "    absolute_error, specific_args={\"max_iterations\": 1000, \"step_size\": 0.1}\n",
    ")\n",
    "\n",
    "# Print best found parameters\n",
    "print(\"Best Parameters:\", best_solution[\"best_params\"])\n",
    "print(\"Best Loss:\", best_solution[\"best_loss\"])\n"
   ]
  }
 ],
 "metadata": {
  "kernelspec": {
   "display_name": "base",
   "language": "python",
   "name": "python3"
  },
  "language_info": {
   "codemirror_mode": {
    "name": "ipython",
    "version": 3
   },
   "file_extension": ".py",
   "mimetype": "text/x-python",
   "name": "python",
   "nbconvert_exporter": "python",
   "pygments_lexer": "ipython3",
   "version": "3.10.12"
  }
 },
 "nbformat": 4,
 "nbformat_minor": 2
}
