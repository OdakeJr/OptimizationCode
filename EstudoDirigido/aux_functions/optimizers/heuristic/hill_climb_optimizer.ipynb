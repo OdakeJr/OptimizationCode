{
 "cells": [
  {
   "cell_type": "code",
   "execution_count": null,
   "metadata": {},
   "outputs": [],
   "source": [
    "def test(concrete_space, abstract_space, target_abstraction, true_architecture, proposed_architecture, loss_function, specific_args):\n",
    "    \"\"\"\n",
    "    Ideally the concrete space should be sampled randomly and the abstract space should be sampled on the run but perhaps having limitations\n",
    "    concrete_space: The possible input space of the optimization\n",
    "    abstract_space: The space containing the candidates to optimize the proposed architecture\n",
    "    target_abstraction: It is the parameters of the true_architecture\n",
    "    true_architecture: The way inputs and parameters are related in the real situation\n",
    "    proposed_architecture: The our model perceives the relation between inputs and parameters\n",
    "    loss_function: Function to evaluate results\n",
    "    specific_args: Argment depending on optimizer\n",
    "    \"\"\""
   ]
  }
 ],
 "metadata": {
  "language_info": {
   "name": "python"
  }
 },
 "nbformat": 4,
 "nbformat_minor": 2
}
