{
 "cells": [
  {
   "cell_type": "code",
   "execution_count": null,
   "metadata": {},
   "outputs": [],
   "source": [
    "class Experiment:\n",
    "    def __init__(self, name, repetitions):\n",
    "        \"\"\"\n",
    "        Initialize the experiment with a name and number of repetitions.\n",
    "        \n",
    "        Args:\n",
    "            name (str): The name of the experiment.\n",
    "            repetitions (int): Number of times the experiment should run.\n",
    "        \"\"\"\n",
    "        self.name = name  # Store the name\n",
    "        self.repetitions = repetitions  # Store the number of repetitions\n",
    "    \n",
    "    def run(self):\n",
    "        \"\"\"\n",
    "        Runs the experiment and prints information using stored variables.\n",
    "        \"\"\"\n",
    "        print(f\"Running experiment: {self.name} for {self.repetitions} repetitions.\")\n",
    "\n",
    "    def change_repetitions(self, new_repetitions):\n",
    "        \"\"\"\n",
    "        Updates the number of repetitions.\n",
    "        \n",
    "        Args:\n",
    "            new_repetitions (int): New number of repetitions.\n",
    "        \"\"\"\n",
    "        self.repetitions = new_repetitions\n",
    "        print(f\"Updated repetitions to {self.repetitions}.\")\n"
   ]
  }
 ],
 "metadata": {
  "language_info": {
   "name": "python"
  }
 },
 "nbformat": 4,
 "nbformat_minor": 2
}
