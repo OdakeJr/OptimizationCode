{
 "cells": [
  {
   "cell_type": "markdown",
   "metadata": {},
   "source": [
    "# Generability, Overfitting (Loss function analysis is more on the optimization note)"
   ]
  },
  {
   "cell_type": "code",
   "execution_count": null,
   "metadata": {},
   "outputs": [],
   "source": [
    "#1) Make a simple database with n points and go on making it bigger to see how much the optimal value change - No need to optimize, only get the numeric result\n",
    "#2) Check how a sampling methods \"collects\" data usefull for fitting a model\n",
    "#3) Check how many data is needed to fit a model perfectly\n",
    "#4) Check how many parameters is needed to fit a data distribution - VC complexity?\n",
    "#5) Check the fittiness with the target, how well it does as the parameters in a model and the number of sampled data increase, to get a good idea of scalability"
   ]
  }
 ],
 "metadata": {
  "language_info": {
   "name": "python"
  }
 },
 "nbformat": 4,
 "nbformat_minor": 2
}
